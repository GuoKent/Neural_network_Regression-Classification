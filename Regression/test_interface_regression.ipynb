{
 "cells": [
  {
   "cell_type": "code",
   "execution_count": 25,
   "metadata": {},
   "outputs": [
    {
     "name": "stdout",
     "output_type": "stream",
     "text": [
      "测试误差(MSE):\n",
      "2.1840498447418213\n",
      "测试误差(MAPE):\n",
      "2.576233819127083%\n",
      "\n"
     ]
    }
   ],
   "source": [
    "import numpy as np\n",
    "import pandas as pd\n",
    "import torch\n",
    "from torch import nn\n",
    "from torch.autograd import Variable\n",
    "from sklearn.preprocessing import MinMaxScaler\n",
    "from regression import regression\n",
    "\n",
    "\n",
    "def load_data(filename):\n",
    "    data = pd.read_csv(filename)  # 小数读取默认只保留6位\n",
    "    data = np.array(data)\n",
    "    Y = data[:, -1]\n",
    "    X = np.delete(data, -1, axis=1)\n",
    "    np.set_printoptions(suppress=True)  # 取消科学计数法表示\n",
    "    return X, Y\n",
    "\n",
    "\n",
    "model = regression()\n",
    "model.load_state_dict(torch.load('model_regression.pkl'))\n",
    "\n",
    "X, Y = load_data('data/22_train_regression.csv')\n",
    "# 数据预处理，归一化\n",
    "mm = MinMaxScaler()\n",
    "X = mm.fit_transform(X)\n",
    "mse = nn.MSELoss()\n",
    "X = torch.FloatTensor(X)\n",
    "Y = torch.FloatTensor(Y)\n",
    "inputs = Variable(X)\n",
    "target = Variable(Y)\n",
    "y = model.forward(inputs)\n",
    "loss = mse(y, target)\n",
    "\n",
    "print('测试误差(MSE):')\n",
    "print(loss.item())\n",
    "\n",
    "y = y.detach().numpy()  # 转化为numpy计算MAPE\n",
    "Y = Y.detach().numpy()\n",
    "MAPE = np.mean(np.abs((y - Y) / Y)) * 100\n",
    "print('测试误差(MAPE):')\n",
    "print(MAPE, end='%\\n\\n')\n"
   ]
  },
  {
   "cell_type": "code",
   "execution_count": null,
   "metadata": {},
   "outputs": [],
   "source": []
  }
 ],
 "metadata": {
  "kernelspec": {
   "display_name": "Python 3",
   "language": "python",
   "name": "python3"
  },
  "language_info": {
   "codemirror_mode": {
    "name": "ipython",
    "version": 3
   },
   "file_extension": ".py",
   "mimetype": "text/x-python",
   "name": "python",
   "nbconvert_exporter": "python",
   "pygments_lexer": "ipython3",
   "version": "3.7.0"
  }
 },
 "nbformat": 4,
 "nbformat_minor": 2
}
