{
 "cells": [
  {
   "cell_type": "code",
   "execution_count": 8,
   "metadata": {},
   "outputs": [
    {
     "name": "stdout",
     "output_type": "stream",
     "text": [
      "Accuracy=0.993750\n"
     ]
    }
   ],
   "source": [
    "import numpy as np\n",
    "import pandas as pd\n",
    "import torch\n",
    "from sklearn.preprocessing import MinMaxScaler\n",
    "from classification import classification\n",
    "\n",
    "\n",
    "def load_data(filename):\n",
    "    data = pd.read_csv(filename)  # 小数读取默认只保留6位\n",
    "    data = np.array(data)\n",
    "    Y = data[:, -1]\n",
    "    X = np.delete(data, -1, axis=1)\n",
    "    np.set_printoptions(suppress=True)  # 取消科学计数法表示\n",
    "    return X, Y\n",
    "\n",
    "\n",
    "model = classification()\n",
    "model.load_state_dict(torch.load('model_classification.pkl'))\n",
    "X, Y = load_data('3_train_classification.csv')\n",
    "# 数据预处理，归一化\n",
    "mm = MinMaxScaler()\n",
    "X = mm.fit_transform(X)\n",
    "\n",
    "X = torch.FloatTensor(X)\n",
    "Y = torch.FloatTensor(Y)\n",
    "\n",
    "inputs = X\n",
    "target = Y\n",
    "correct = 0\n",
    "total = len(Y)\n",
    "outputs = model.forward(inputs)\n",
    "predicted = torch.max(outputs.data, dim=1)  # 预测值\n",
    "for i in range(len(Y)):\n",
    "    if Y[i] == predicted.indices[i]:\n",
    "        correct += 1\n",
    "accuracy = correct / total\n",
    "print('Accuracy=%f' % accuracy)\n"
   ]
  },
  {
   "cell_type": "code",
   "execution_count": null,
   "metadata": {},
   "outputs": [],
   "source": []
  }
 ],
 "metadata": {
  "kernelspec": {
   "display_name": "Python 3",
   "language": "python",
   "name": "python3"
  },
  "language_info": {
   "codemirror_mode": {
    "name": "ipython",
    "version": 3
   },
   "file_extension": ".py",
   "mimetype": "text/x-python",
   "name": "python",
   "nbconvert_exporter": "python",
   "pygments_lexer": "ipython3",
   "version": "3.7.0"
  }
 },
 "nbformat": 4,
 "nbformat_minor": 2
}
